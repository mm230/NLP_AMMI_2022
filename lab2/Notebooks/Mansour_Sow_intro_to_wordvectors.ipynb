{
 "cells": [
  {
   "cell_type": "markdown",
   "metadata": {
    "colab_type": "text",
    "id": "view-in-github"
   },
   "source": [
    "<a href=\"https://colab.research.google.com/github/mm230/NLP_Lab_Week1/blob/main/Mansour_Sow_intro_to_wordvectors.ipynb\" target=\"_parent\"><img src=\"https://colab.research.google.com/assets/colab-badge.svg\" alt=\"Open In Colab\"/></a>"
   ]
  },
  {
   "cell_type": "markdown",
   "metadata": {
    "id": "PXxqRz9EVBrK"
   },
   "source": [
    "\n",
    "<h1 style=\"font-family:verdana;font-size:300%;text-align:center;background-color:#f2f2f2;color:#0d0d0d\">AMMI NLP - Review sessions</h1>\n",
    "\n",
    "<h1 style=\"font-family:verdana;font-size:180%;text-align:Center;color:#993333\"> Lab 2: Introduction to wordvectors </h1>"
   ]
  },
  {
   "cell_type": "markdown",
   "metadata": {
    "id": "63O4WQ6LVBrM"
   },
   "source": [
    "**Big thanks to Amr Khalifa who improved this lab and made it to a Jupyter Notebook!**"
   ]
  },
  {
   "cell_type": "code",
   "execution_count": null,
   "metadata": {
    "colab": {
     "base_uri": "https://localhost:8080/"
    },
    "id": "xvt2Pwl5VL6p",
    "outputId": "b949be31-073d-4cdb-87df-353af84edd20"
   },
   "outputs": [
    {
     "ename": "ModuleNotFoundError",
     "evalue": "No module named 'google.colab'",
     "output_type": "error",
     "traceback": [
      "\u001b[0;31m---------------------------------------------------------------------------\u001b[0m",
      "\u001b[0;31mModuleNotFoundError\u001b[0m                       Traceback (most recent call last)",
      "Input \u001b[0;32mIn [2]\u001b[0m, in \u001b[0;36m<cell line: 1>\u001b[0;34m()\u001b[0m\n\u001b[0;32m----> 1\u001b[0m \u001b[38;5;28;01mfrom\u001b[39;00m \u001b[38;5;21;01mgoogle\u001b[39;00m\u001b[38;5;21;01m.\u001b[39;00m\u001b[38;5;21;01mcolab\u001b[39;00m \u001b[38;5;28;01mimport\u001b[39;00m drive\n\u001b[1;32m      2\u001b[0m drive\u001b[38;5;241m.\u001b[39mmount(\u001b[38;5;124m'\u001b[39m\u001b[38;5;124m/content/drive\u001b[39m\u001b[38;5;124m'\u001b[39m)\n",
      "\u001b[0;31mModuleNotFoundError\u001b[0m: No module named 'google.colab'"
     ]
    }
   ],
   "source": [
    "from google.colab import drive\n",
    "drive.mount('/content/drive')"
   ]
  },
  {
   "cell_type": "code",
   "execution_count": 3,
   "metadata": {
    "colab": {
     "base_uri": "https://localhost:8080/"
    },
    "id": "gnJy2y2zVLGj",
    "outputId": "9872029a-49a3-4961-b977-7116ca06917b"
   },
   "outputs": [],
   "source": [
    "path = \"/Users/mansour/Desktop/Documents/AMMI /NLP AMMI/Week1/Labs/NLP_Lab_Week1/lab2/data\""
   ]
  },
  {
   "cell_type": "code",
   "execution_count": null,
   "metadata": {
    "id": "2L45fjzDQ6Kj"
   },
   "outputs": [],
   "source": [
    "%cd drive/MyDrive/NLP_Week_1_Labs_2022/session2/"
   ]
  },
  {
   "cell_type": "code",
   "execution_count": 13,
   "metadata": {
    "colab": {
     "base_uri": "https://localhost:8080/",
     "height": 35
    },
    "id": "JFZLvNg3S7bz",
    "outputId": "cc86b73f-6254-4b01-9007-6d147a3571be"
   },
   "outputs": [
    {
     "data": {
      "application/vnd.google.colaboratory.intrinsic+json": {
       "type": "string"
      },
      "text/plain": [
       "'/content/drive/MyDrive/NLP_Week_1_Labs_2022/session2'"
      ]
     },
     "execution_count": 13,
     "metadata": {},
     "output_type": "execute_result"
    }
   ],
   "source": [
    "%pwd"
   ]
  },
  {
   "cell_type": "code",
   "execution_count": 4,
   "metadata": {
    "id": "aGDu5IGDVBrM"
   },
   "outputs": [],
   "source": [
    "import io, sys\n",
    "import numpy as np"
   ]
  },
  {
   "cell_type": "code",
   "execution_count": 5,
   "metadata": {
    "id": "AUIQWVphVBrN"
   },
   "outputs": [],
   "source": [
    "def load_vectors(filename):\n",
    "    fin = io.open(filename, 'r', encoding='utf-8', newline='\\n')\n",
    "    n, d = map(int, fin.readline().split())\n",
    "    data = {}\n",
    "    for line in fin:\n",
    "        tokens = line.rstrip().split(' ')\n",
    "        data[tokens[0]] = np.asarray([float(x) for x in tokens[1:]])\n",
    "    return data"
   ]
  },
  {
   "cell_type": "code",
   "execution_count": 6,
   "metadata": {
    "colab": {
     "base_uri": "https://localhost:8080/"
    },
    "id": "bm9--K8QVBrN",
    "outputId": "de152fbc-7447-4502-82b1-146c3aa9fe44"
   },
   "outputs": [
    {
     "name": "stdout",
     "output_type": "stream",
     "text": [
      "\n",
      " ** Word vectors ** \n",
      "\n"
     ]
    },
    {
     "ename": "FileNotFoundError",
     "evalue": "[Errno 2] No such file or directory: 'wiki.en.vec'",
     "output_type": "error",
     "traceback": [
      "\u001b[0;31m---------------------------------------------------------------------------\u001b[0m",
      "\u001b[0;31mFileNotFoundError\u001b[0m                         Traceback (most recent call last)",
      "Input \u001b[0;32mIn [6]\u001b[0m, in \u001b[0;36m<cell line: 11>\u001b[0;34m()\u001b[0m\n\u001b[1;32m      5\u001b[0m \u001b[38;5;28mprint\u001b[39m(\u001b[38;5;124m'\u001b[39m\u001b[38;5;124m'\u001b[39m)\n\u001b[1;32m      7\u001b[0m \u001b[38;5;124;03m'''\u001b[39;00m\n\u001b[1;32m      8\u001b[0m \u001b[38;5;124;03mword_vectors is a dictionary that maps words to their numerical word vector\u001b[39;00m\n\u001b[1;32m      9\u001b[0m \u001b[38;5;124;03m[word (string)] = [np-array] \u001b[39;00m\n\u001b[1;32m     10\u001b[0m \u001b[38;5;124;03m'''\u001b[39;00m\n\u001b[0;32m---> 11\u001b[0m word_vectors \u001b[38;5;241m=\u001b[39m \u001b[43mload_vectors\u001b[49m\u001b[43m(\u001b[49m\u001b[38;5;124;43m'\u001b[39;49m\u001b[38;5;124;43mwiki.en.vec\u001b[39;49m\u001b[38;5;124;43m'\u001b[39;49m\u001b[43m)\u001b[49m\n\u001b[1;32m     13\u001b[0m tree_vector \u001b[38;5;241m=\u001b[39m word_vectors[\u001b[38;5;124m'\u001b[39m\u001b[38;5;124mtree\u001b[39m\u001b[38;5;124m'\u001b[39m]\n\u001b[1;32m     14\u001b[0m \u001b[38;5;28mprint\u001b[39m(\u001b[38;5;28mtype\u001b[39m(tree_vector), \u001b[38;5;28mlen\u001b[39m(tree_vector))\n",
      "Input \u001b[0;32mIn [5]\u001b[0m, in \u001b[0;36mload_vectors\u001b[0;34m(filename)\u001b[0m\n\u001b[1;32m      1\u001b[0m \u001b[38;5;28;01mdef\u001b[39;00m \u001b[38;5;21mload_vectors\u001b[39m(filename):\n\u001b[0;32m----> 2\u001b[0m     fin \u001b[38;5;241m=\u001b[39m \u001b[43mio\u001b[49m\u001b[38;5;241;43m.\u001b[39;49m\u001b[43mopen\u001b[49m\u001b[43m(\u001b[49m\u001b[43mfilename\u001b[49m\u001b[43m,\u001b[49m\u001b[43m \u001b[49m\u001b[38;5;124;43m'\u001b[39;49m\u001b[38;5;124;43mr\u001b[39;49m\u001b[38;5;124;43m'\u001b[39;49m\u001b[43m,\u001b[49m\u001b[43m \u001b[49m\u001b[43mencoding\u001b[49m\u001b[38;5;241;43m=\u001b[39;49m\u001b[38;5;124;43m'\u001b[39;49m\u001b[38;5;124;43mutf-8\u001b[39;49m\u001b[38;5;124;43m'\u001b[39;49m\u001b[43m,\u001b[49m\u001b[43m \u001b[49m\u001b[43mnewline\u001b[49m\u001b[38;5;241;43m=\u001b[39;49m\u001b[38;5;124;43m'\u001b[39;49m\u001b[38;5;130;43;01m\\n\u001b[39;49;00m\u001b[38;5;124;43m'\u001b[39;49m\u001b[43m)\u001b[49m\n\u001b[1;32m      3\u001b[0m     n, d \u001b[38;5;241m=\u001b[39m \u001b[38;5;28mmap\u001b[39m(\u001b[38;5;28mint\u001b[39m, fin\u001b[38;5;241m.\u001b[39mreadline()\u001b[38;5;241m.\u001b[39msplit())\n\u001b[1;32m      4\u001b[0m     data \u001b[38;5;241m=\u001b[39m {}\n",
      "\u001b[0;31mFileNotFoundError\u001b[0m: [Errno 2] No such file or directory: 'wiki.en.vec'"
     ]
    }
   ],
   "source": [
    "# Loading word vectors\n",
    "\n",
    "print('')\n",
    "print(' ** Word vectors ** ')\n",
    "print('')\n",
    "\n",
    "'''\n",
    "word_vectors is a dictionary that maps words to their numerical word vector\n",
    "[word (string)] = [np-array] \n",
    "'''\n",
    "word_vectors = load_vectors('wiki.en.vec')\n",
    "\n",
    "tree_vector = word_vectors['tree']\n",
    "print(type(tree_vector), len(tree_vector))"
   ]
  },
  {
   "cell_type": "code",
   "execution_count": 20,
   "metadata": {
    "id": "tMIVfPrRUZhY"
   },
   "outputs": [],
   "source": [
    "def length(vector): #C\n",
    "  sq_length = 0\n",
    "  for index in range(0, len(vector)):\n",
    "    sq_length += math.pow(vector[index], 2) #B\n",
    "  return math.sqrt(sq_length) #A\n",
    "\n",
    "def dot_product(vector1, vector2): #D\n",
    "  if len(vector1)==len(vector2):\n",
    "    dot_prod = 0\n",
    "    for index in range(0, len(vector1)):\n",
    "      dot_prod += vector1[index]*vector2[index]\n",
    "    return dot_prod\n",
    "  else:\n",
    "    return \"Unmatching dimensionality\" #E\n",
    "# cosine=dot_product(query, doc1)/(length(query)*length(doc1)) #F\n",
    "# print (cosine)"
   ]
  },
  {
   "cell_type": "code",
   "execution_count": 25,
   "metadata": {
    "id": "dCEE2PfVVBrO"
   },
   "outputs": [],
   "source": [
    "## This function computes the cosine similarity between vectors u and v\n",
    "\n",
    "def cosine(u, v):\n",
    "    '''\n",
    "    Parameters:\n",
    "    u : 1-D numpy array\n",
    "    v : 1-D numpy array \n",
    "    \n",
    "    Returns:\n",
    "    cos (float) : value of the cosine similairy between vectors u, v \n",
    "    '''\n",
    "\n",
    "    ## FILL CODE\n",
    "    cos = np.dot(u.T, v) / (np.linalg.norm(u) * np.linalg.norm(v))\n",
    "    return cos \n"
   ]
  },
  {
   "cell_type": "code",
   "execution_count": 26,
   "metadata": {
    "colab": {
     "base_uri": "https://localhost:8080/"
    },
    "id": "riI41ZkxVBrO",
    "outputId": "a86a95e6-0f51-40be-ebce-41a1e5e68b11"
   },
   "outputs": [
    {
     "name": "stdout",
     "output_type": "stream",
     "text": [
      "similarity(apple, apples) = 0.637\n",
      "similarity(apple, banana) = 0.431\n",
      "similarity(apple, tiger) = 0.212\n"
     ]
    }
   ],
   "source": [
    "# compute similarity between words\n",
    "\n",
    "print('similarity(apple, apples) = %.3f' %\n",
    "      cosine(word_vectors['apple'], word_vectors['apples']))\n",
    "print('similarity(apple, banana) = %.3f' %\n",
    "      cosine(word_vectors['apple'], word_vectors['banana']))\n",
    "print('similarity(apple, tiger) = %.3f' %\n",
    "      cosine(word_vectors['apple'], word_vectors['tiger']))"
   ]
  },
  {
   "cell_type": "code",
   "execution_count": null,
   "metadata": {
    "id": "mQtXfuYrVBrP"
   },
   "outputs": [],
   "source": [
    "## Functions for nearest neighbor\n",
    "## This function returns the word corresponding to \n",
    "## nearest neighbor vector of x\n",
    "## The list exclude_words can be used to exclude some\n",
    "## words from the nearest neighbors search\n",
    "\n",
    "def nearest_neighbor(x, word_vectors, exclude_words=[]):\n",
    "    '''\n",
    "    Parameters:\n",
    "    x (string): word to find its nearest neighbour \n",
    "    word_vectors (Python dict): {word (string): np-array of word vector}\n",
    "    exclude_words (list of strings): words to be excluded from the search\n",
    "    \n",
    "    Returns:\n",
    "    best_word (string) : the word whose word vector is the nearest neighbour \n",
    "    to the word vector of x\n",
    "    '''\n",
    "    best_score = -1.0\n",
    "    best_word = None\n",
    "\n",
    "    ## FILL CODE\n",
    "    \n",
    "    return best_word"
   ]
  },
  {
   "cell_type": "code",
   "execution_count": null,
   "metadata": {
    "id": "ewGWWX6CVBrP"
   },
   "outputs": [],
   "source": [
    "print('')\n",
    "print('The nearest neighbor of cat is: ' +\n",
    "      nearest_neighbor(word_vectors['cat'], word_vectors, exclude_words = ['cat', 'cats']))"
   ]
  },
  {
   "cell_type": "markdown",
   "metadata": {
    "id": "2aurfMp9VBrQ"
   },
   "source": [
    "#### Hint (using python priorty queues with the heapq datastructure): \n",
    "if you don't want to store all the words and scores you can use the priortiy queue and only store the best K element so far. "
   ]
  },
  {
   "cell_type": "code",
   "execution_count": null,
   "metadata": {
    "id": "terRpHC2VBrQ"
   },
   "outputs": [],
   "source": [
    "\n",
    "## This function return the words corresponding to the\n",
    "## K nearest neighbors of vector x.\n",
    "## You can use the functions heappush and heappop.\n",
    "\n",
    "def knn(x, vectors, k):\n",
    "    '''\n",
    "    Parameters:\n",
    "    x (string): word to find its nearest neighbour \n",
    "    word_vectors (Python dict): {word (string): np-array of word vector}\n",
    "    k (int): number of nearest neighbours to be found\n",
    "    \n",
    "    Returns: \n",
    "    k_nearest_neighbors (list of tuples): [(score, word), (score, word), ....]\n",
    "    '''\n",
    "\n",
    "    k_nearest_neighbors = None\n",
    "    ## FILL CODE\n",
    "        \n",
    "    return k_nearest_neighbors"
   ]
  },
  {
   "cell_type": "code",
   "execution_count": null,
   "metadata": {
    "id": "-Ojw0IgfVBrQ"
   },
   "outputs": [],
   "source": [
    "knn_cat = knn(word_vectors['cat'], word_vectors, 5)\n",
    "print('')\n",
    "print('cat')\n",
    "print('--------------')\n",
    "for score, word in knn(word_vectors['cat'], word_vectors, 5):\n",
    "    print (word + '\\t%.3f' % score)\n"
   ]
  },
  {
   "cell_type": "markdown",
   "metadata": {
    "id": "M5Xh6S6BVBrR"
   },
   "source": [
    "#### Hint: \n",
    "To find the analogies, we find the nearest neighbour associated with the wordvector d\n",
    "$$ d = \\frac{c}{\\Vert {c} \\Vert} + \\frac{b}{\\Vert {b} \\Vert} - \\frac{a}{\\Vert {a} \\Vert}$$\n"
   ]
  },
  {
   "cell_type": "code",
   "execution_count": null,
   "metadata": {
    "id": "3rpfTQNbVBrR"
   },
   "outputs": [],
   "source": [
    "## This function return the words d, such that a:b and c:d\n",
    "## verifies the same relation\n",
    "\n",
    "def analogy(a, b, c, word_vectors):\n",
    "    '''\n",
    "    Parameters:\n",
    "    a (string): word a\n",
    "    b (string): word b\n",
    "    c (string): word c\n",
    "    word_vectors (Python dict): {word (string): np-array of word vector}\n",
    "    \n",
    "    Returnrs: \n",
    "    the word d (string) associated with c such that c:d is similar to a:b \n",
    "    \n",
    "    '''\n",
    "    \n",
    "    ## FILL CODE\n",
    "\n",
    "    return None"
   ]
  },
  {
   "cell_type": "code",
   "execution_count": null,
   "metadata": {
    "id": "VOmaKrwLVBrR"
   },
   "outputs": [],
   "source": [
    "# Word analogies\n",
    "\n",
    "print('')\n",
    "print('france - paris + rome = ' + analogy('paris', 'france', 'rome', word_vectors))"
   ]
  },
  {
   "cell_type": "markdown",
   "metadata": {
    "id": "l1NFLssbVBrR"
   },
   "source": [
    "## A word about biases in word vectors"
   ]
  },
  {
   "cell_type": "code",
   "execution_count": null,
   "metadata": {
    "id": "wxcigkHCVBrR"
   },
   "outputs": [],
   "source": [
    "## A word about biases in word vectors:\n",
    "\n",
    "print('')\n",
    "print('similarity(genius, man) = %.3f' %\n",
    "      cosine(word_vectors['man'], word_vectors['genius']))\n",
    "print('similarity(genius, woman) = %.3f' %\n",
    "      cosine(word_vectors['woman'], word_vectors['genius']))"
   ]
  },
  {
   "cell_type": "code",
   "execution_count": null,
   "metadata": {
    "id": "jZUURR_6VBrR"
   },
   "outputs": [],
   "source": [
    "## Compute the association strength between:\n",
    "##   - a word w\n",
    "##   - two sets of attributes A and B\n",
    "\n",
    "def association_strength(w, A, B, vectors):\n",
    "    '''\n",
    "    Parameters:\n",
    "    w (string): word w\n",
    "    A (list of strings): The words belonging to set A\n",
    "    B (list of strings): The words belonging to set B\n",
    "    vectors (Python dict): {word (string): np-array of word vector}\n",
    "    \n",
    "    Returnrs: \n",
    "    strength (float): the value of the association strength \n",
    "    '''\n",
    "    \n",
    "    strength = 0.0\n",
    "    part_a = 0.0\n",
    "    part_b = 0.0 \n",
    "    \n",
    "    ## FILL CODE\n",
    "\n",
    "    return strength"
   ]
  },
  {
   "cell_type": "code",
   "execution_count": null,
   "metadata": {
    "id": "KCyQZ85IVBrR"
   },
   "outputs": [],
   "source": [
    "## Perform the word embedding association test between:\n",
    "##   - two sets of words X and Y\n",
    "##   - two sets of attributes A and B\n",
    "\n",
    "def weat(X, Y, A, B, vectors):\n",
    "    '''\n",
    "    Parameters:\n",
    "    X (list of strings): The words belonging to set X\n",
    "    Y (list of strings): The words belonging to set Y\n",
    "    A (list of strings): The words belonging to set A\n",
    "    B (list of strings): The words belonging to set B\n",
    "    vectors (Python dict): {word (string): np-array of word vector}\n",
    "    \n",
    "    Returns: \n",
    "    score (float): the value of the group association strength  \n",
    "    '''\n",
    "    \n",
    "    score = 0.0\n",
    "    \n",
    "    ## FILL CODE\n",
    "\n",
    "    return score"
   ]
  },
  {
   "cell_type": "code",
   "execution_count": null,
   "metadata": {
    "id": "gLagus9kVBrS"
   },
   "outputs": [],
   "source": [
    "## Replicate one of the experiments from:\n",
    "##\n",
    "## Semantics derived automatically from language corpora contain human-like biases\n",
    "## Caliskan, Bryson, Narayanan (2017)\n",
    "\n",
    "career = ['executive', 'management', 'professional', 'corporation', \n",
    "          'salary', 'office', 'business', 'career']\n",
    "family = ['home', 'parents', 'children', 'family',\n",
    "          'cousins', 'marriage', 'wedding', 'relatives']\n",
    "male = ['john', 'paul', 'mike', 'kevin', 'steve', 'greg', 'jeff', 'bill']\n",
    "female = ['amy', 'joan', 'lisa', 'sarah', 'diana', 'kate', 'ann', 'donna']\n",
    "\n",
    "print('')\n",
    "print('Word embedding association test: %.3f' %\n",
    "      weat(career, family, male, female, word_vectors))"
   ]
  },
  {
   "cell_type": "markdown",
   "metadata": {
    "id": "QhIoTzNsVBrS"
   },
   "source": [
    "## Word translation using word vectors\n",
    "\n",
    "In the following, we will use word vectors in English and French to translate words from English to French. The idea is to learn a linear function that maps English word vectors to their correponding French word vectors. To learn this linear mapping, we will use a small bilingual lexicon, that contains pairs of words in English and French that are translations of each other.\n",
    "\n",
    "The following function will load the small English-French bilingual lexicon:"
   ]
  },
  {
   "cell_type": "code",
   "execution_count": null,
   "metadata": {
    "id": "HFgHJrvpVBrS"
   },
   "outputs": [],
   "source": [
    "def load_lexicon(filename):\n",
    "    '''\n",
    "    Parameters:\n",
    "    filename(string): the path of the lexicon\n",
    "    \n",
    "    Returns:\n",
    "    data(list of pairs of string): the bilingual lexicon\n",
    "    '''\n",
    "    fin = io.open(filename, 'r', encoding='utf-8', newline='\\n')\n",
    "    data = []\n",
    "    for line in fin:\n",
    "        a, b = line.rstrip().split(' ')\n",
    "        data.append((a, b))\n",
    "    return data"
   ]
  },
  {
   "cell_type": "code",
   "execution_count": null,
   "metadata": {
    "id": "Hlffe1vMVBrS"
   },
   "outputs": [],
   "source": [
    "word_vectors_en = load_vectors('wiki.en.vec')\n",
    "word_vectors_fr = load_vectors('wiki.fr.vec')\n",
    "lexicon = load_lexicon(\"lexicon-en-fr.txt\")\n",
    "print(lexicon[:5])"
   ]
  },
  {
   "cell_type": "code",
   "execution_count": null,
   "metadata": {
    "id": "CNGXEEUoVBrS"
   },
   "outputs": [],
   "source": [
    "# We split the lexicon into a train and validation set\n",
    "train = lexicon[:5000]\n",
    "valid = lexicon[5000:5100]"
   ]
  },
  {
   "cell_type": "markdown",
   "metadata": {
    "id": "mwHfCCqkVBrS"
   },
   "source": [
    "The following function will learn the mapping from English to French. The idea is to build two matrices $X_{\\text{en}}$ and $X_{\\text{fr}}$, and to find a mapping $M$ that minimizes $||X_{\\text{en}} W - X_{\\text{fr}} ||_2$. In numpy, this mapping can be obtained by using the `numpy.linalg.lstsq` function."
   ]
  },
  {
   "cell_type": "code",
   "execution_count": null,
   "metadata": {
    "id": "cK9TTCILVBrS"
   },
   "outputs": [],
   "source": [
    "def align(word_vectors_en, word_vectors_fr, lexicon):\n",
    "    '''\n",
    "    Parameters:\n",
    "    word_vectors_en(dict: string -> np.array): English word vectors\n",
    "    word_vectors_en(dict: string -> np.array): French word vectors\n",
    "    lexicon(list of pairs of string): bilingual training lexicon\n",
    "    \n",
    "    Returns\n",
    "    mapping(np.array): the mapping from English to French vectors\n",
    "    '''\n",
    "    x_en, x_fr = [], []\n",
    "    \n",
    "    ## FILL CODE\n",
    "    \n",
    "    return None"
   ]
  },
  {
   "cell_type": "code",
   "execution_count": null,
   "metadata": {
    "id": "YxNt22LVVBrS"
   },
   "outputs": [],
   "source": [
    "mapping = align(word_vectors_en, word_vectors_fr, lexicon)"
   ]
  },
  {
   "cell_type": "markdown",
   "metadata": {
    "id": "ymj4RevMVBrS"
   },
   "source": [
    "Given a mapping, a set of word English word vector and French word vectors, the next function will translate the English word to French. To do so, we apply the mapping on the English word, and retrieve the nearest neighbor of the obtained vector in the set of French word vectors. The translation is then the corresponding French word."
   ]
  },
  {
   "cell_type": "code",
   "execution_count": null,
   "metadata": {
    "id": "Captc7b_VBrT"
   },
   "outputs": [],
   "source": [
    "def translate(word, word_vectors_en, word_vectors_fr, mapping):\n",
    "    '''\n",
    "    Parameters:\n",
    "    word(string): an English word\n",
    "    word_vectors_en(dict: string -> np.array): English word vectors\n",
    "    word_vectors_en(dict: string -> np.array): French word vectors\n",
    "    mapping(np.array): the mapping from English to French vectors\n",
    "    \n",
    "    Returns\n",
    "    A string containing the translation of the English word\n",
    "    '''\n",
    "    \n",
    "    ## FILL CODE\n",
    "\n",
    "    return None"
   ]
  },
  {
   "cell_type": "code",
   "execution_count": null,
   "metadata": {
    "id": "EVvK-J-bVBrT"
   },
   "outputs": [],
   "source": [
    "print(translate(\"world\", word_vectors_en, word_vectors_fr, mapping))\n",
    "print(translate(\"machine\", word_vectors_en, word_vectors_fr, mapping))\n",
    "print(translate(\"learning\", word_vectors_en, word_vectors_fr, mapping))"
   ]
  },
  {
   "cell_type": "markdown",
   "metadata": {
    "id": "A4lJn0n-VBrT"
   },
   "source": [
    "Finally, let's implement a function to evaluate this method on the validation lexicon:"
   ]
  },
  {
   "cell_type": "code",
   "execution_count": null,
   "metadata": {
    "id": "SIXr70zWVBrT"
   },
   "outputs": [],
   "source": [
    "def evaluate(valid, word_vectors_en, word_vectors_fr, mapping):\n",
    "    '''\n",
    "    Parameters:\n",
    "    valid(a list of pairs of string): the validation lexicon\n",
    "    word_vectors_en(dict: string -> np.array): English word vectors\n",
    "    word_vectors_en(dict: string -> np.array): French word vectors\n",
    "    mapping(np.array): the mapping from English to French vectors\n",
    "    \n",
    "    Returns\n",
    "    Accuracy(float): the accuracy on the validation lexicon\n",
    "    '''\n",
    "    acc, n = 0.0, 0\n",
    "    \n",
    "    ## FILL CODE\n",
    "\n",
    "    return acc"
   ]
  },
  {
   "cell_type": "code",
   "execution_count": null,
   "metadata": {
    "id": "4iuKt6heVBrT"
   },
   "outputs": [],
   "source": [
    "evaluate(valid, word_vectors_en, word_vectors_fr, mapping)"
   ]
  },
  {
   "cell_type": "code",
   "execution_count": null,
   "metadata": {
    "id": "ctqJ1lz-VBrT"
   },
   "outputs": [],
   "source": []
  }
 ],
 "metadata": {
  "colab": {
   "collapsed_sections": [],
   "include_colab_link": true,
   "name": "Mansour_Sow_intro_to_wordvectors.ipynb",
   "provenance": []
  },
  "kernelspec": {
   "display_name": "Python 3 (ipykernel)",
   "language": "python",
   "name": "python3"
  },
  "language_info": {
   "codemirror_mode": {
    "name": "ipython",
    "version": 3
   },
   "file_extension": ".py",
   "mimetype": "text/x-python",
   "name": "python",
   "nbconvert_exporter": "python",
   "pygments_lexer": "ipython3",
   "version": "3.9.7"
  }
 },
 "nbformat": 4,
 "nbformat_minor": 4
}
