{
  "cells": [
    {
      "cell_type": "markdown",
      "metadata": {
        "id": "view-in-github",
        "colab_type": "text"
      },
      "source": [
        "<a href=\"https://colab.research.google.com/github/mm230/NLP_Lab_Week1/blob/main/Mansour_Sow_intro_to_wordvectors.ipynb\" target=\"_parent\"><img src=\"https://colab.research.google.com/assets/colab-badge.svg\" alt=\"Open In Colab\"/></a>"
      ]
    },
    {
      "cell_type": "markdown",
      "metadata": {
        "id": "PXxqRz9EVBrK"
      },
      "source": [
        "\n",
        "<h1 style=\"font-family:verdana;font-size:300%;text-align:center;background-color:#f2f2f2;color:#0d0d0d\">AMMI NLP - Review sessions</h1>\n",
        "\n",
        "<h1 style=\"font-family:verdana;font-size:180%;text-align:Center;color:#993333\"> Lab 2: Introduction to wordvectors </h1>"
      ]
    },
    {
      "cell_type": "markdown",
      "metadata": {
        "id": "63O4WQ6LVBrM"
      },
      "source": [
        "**Big thanks to Amr Khalifa who improved this lab and made it to a Jupyter Notebook!**"
      ]
    },
    {
      "cell_type": "code",
      "source": [
        "from google.colab import drive\n",
        "drive.mount('/content/drive')"
      ],
      "metadata": {
        "id": "xvt2Pwl5VL6p",
        "colab": {
          "base_uri": "https://localhost:8080/"
        },
        "outputId": "b97c52cc-5020-497e-de21-f8b2a7702bbc"
      },
      "execution_count": 1,
      "outputs": [
        {
          "output_type": "stream",
          "name": "stdout",
          "text": [
            "Mounted at /content/drive\n"
          ]
        }
      ]
    },
    {
      "cell_type": "code",
      "source": [
        "%ls "
      ],
      "metadata": {
        "id": "gnJy2y2zVLGj",
        "colab": {
          "base_uri": "https://localhost:8080/"
        },
        "outputId": "0fb2d1e5-fdeb-4b4d-ffe8-c431c1a04e8b"
      },
      "execution_count": null,
      "outputs": [
        {
          "output_type": "stream",
          "name": "stdout",
          "text": [
            "\u001b[0m\u001b[01;34mdrive\u001b[0m/  \u001b[01;34msample_data\u001b[0m/\n"
          ]
        }
      ]
    },
    {
      "cell_type": "code",
      "source": [
        "%cd drive/MyDrive/NLP_Week_1_Labs_2022/session2/"
      ],
      "metadata": {
        "colab": {
          "base_uri": "https://localhost:8080/"
        },
        "id": "2L45fjzDQ6Kj",
        "outputId": "f0c8b87f-96d0-4dab-f9de-90008c41682a"
      },
      "execution_count": 2,
      "outputs": [
        {
          "output_type": "stream",
          "name": "stdout",
          "text": [
            "/content/drive/MyDrive/NLP_Week_1_Labs_2022/session2\n"
          ]
        }
      ]
    },
    {
      "cell_type": "code",
      "source": [
        "%pwd"
      ],
      "metadata": {
        "colab": {
          "base_uri": "https://localhost:8080/",
          "height": 36
        },
        "id": "JFZLvNg3S7bz",
        "outputId": "d97c7ba1-9899-416e-a5d9-2ce2d9dc5eff"
      },
      "execution_count": 3,
      "outputs": [
        {
          "output_type": "execute_result",
          "data": {
            "text/plain": [
              "'/content/drive/MyDrive/NLP_Week_1_Labs_2022/session2'"
            ],
            "application/vnd.google.colaboratory.intrinsic+json": {
              "type": "string"
            }
          },
          "metadata": {},
          "execution_count": 3
        }
      ]
    },
    {
      "cell_type": "code",
      "execution_count": 4,
      "metadata": {
        "id": "aGDu5IGDVBrM"
      },
      "outputs": [],
      "source": [
        "import io, sys\n",
        "import numpy as np"
      ]
    },
    {
      "cell_type": "code",
      "execution_count": 5,
      "metadata": {
        "id": "AUIQWVphVBrN"
      },
      "outputs": [],
      "source": [
        "def load_vectors(filename):\n",
        "    fin = io.open(filename, 'r', encoding='utf-8', newline='\\n')\n",
        "    n, d = map(int, fin.readline().split())\n",
        "    data = {}\n",
        "    for line in fin:\n",
        "        tokens = line.rstrip().split(' ')\n",
        "        data[tokens[0]] = np.asarray([float(x) for x in tokens[1:]])\n",
        "    return data"
      ]
    },
    {
      "cell_type": "code",
      "execution_count": 6,
      "metadata": {
        "id": "bm9--K8QVBrN",
        "colab": {
          "base_uri": "https://localhost:8080/"
        },
        "outputId": "8c28ea60-ec75-4bc4-c30e-8ab6a3403cec"
      },
      "outputs": [
        {
          "output_type": "stream",
          "name": "stdout",
          "text": [
            "\n",
            " ** Word vectors ** \n",
            "\n",
            "<class 'numpy.ndarray'> 300\n"
          ]
        }
      ],
      "source": [
        "# Loading word vectors\n",
        "\n",
        "print('')\n",
        "print(' ** Word vectors ** ')\n",
        "print('')\n",
        "\n",
        "'''\n",
        "word_vectors is a dictionary that maps words to their numerical word vector\n",
        "[word (string)] = [np-array] \n",
        "'''\n",
        "word_vectors = load_vectors('wiki.en.vec')\n",
        "\n",
        "tree_vector = word_vectors['tree']\n",
        "print(type(tree_vector), len(tree_vector))"
      ]
    },
    {
      "cell_type": "code",
      "source": [
        "# def length(vector): #C\n",
        "#   sq_length = 0\n",
        "#   for index in range(0, len(vector)):\n",
        "#     sq_length += math.pow(vector[index], 2) #B\n",
        "#   return math.sqrt(sq_length) #A\n",
        "\n",
        "# def dot_product(vector1, vector2): #D\n",
        "#   if len(vector1)==len(vector2):\n",
        "#     dot_prod = 0\n",
        "#     for index in range(0, len(vector1)):\n",
        "#       dot_prod += vector1[index]*vector2[index]\n",
        "#     return dot_prod\n",
        "#   else:\n",
        "#     return \"Unmatching dimensionality\" #E\n",
        "# # cosine=dot_product(query, doc1)/(length(query)*length(doc1)) #F\n",
        "# # print (cosine)"
      ],
      "metadata": {
        "id": "tMIVfPrRUZhY"
      },
      "execution_count": null,
      "outputs": []
    },
    {
      "cell_type": "code",
      "execution_count": 109,
      "metadata": {
        "id": "dCEE2PfVVBrO"
      },
      "outputs": [],
      "source": [
        "## This function computes the cosine similarity between vectors u and v\n",
        "\n",
        "def cosine(u, v):\n",
        "    '''\n",
        "    Parameters:\n",
        "    u : 1-D numpy array\n",
        "    v : 1-D numpy array \n",
        "    \n",
        "    Returns:\n",
        "    cos (float) : value of the cosine similarity between vectors u, v \n",
        "    '''\n",
        "\n",
        "    ## FILL CODE\n",
        "    cos = np.dot(u.T, v) / (np.linalg.norm(u) * np.linalg.norm(v))\n",
        "    \n",
        "    return cos \n"
      ]
    },
    {
      "cell_type": "code",
      "execution_count": 8,
      "metadata": {
        "id": "riI41ZkxVBrO",
        "colab": {
          "base_uri": "https://localhost:8080/"
        },
        "outputId": "01aaca08-c615-4615-c890-2fd8f9c92675"
      },
      "outputs": [
        {
          "output_type": "stream",
          "name": "stdout",
          "text": [
            "similarity(apple, apples) = 0.637\n",
            "similarity(apple, banana) = 0.431\n",
            "similarity(apple, tiger) = 0.212\n"
          ]
        }
      ],
      "source": [
        "# compute similarity between words\n",
        "\n",
        "print('similarity(apple, apples) = %.3f' %\n",
        "      cosine(word_vectors['apple'], word_vectors['apples']))\n",
        "print('similarity(apple, banana) = %.3f' %\n",
        "      cosine(word_vectors['apple'], word_vectors['banana']))\n",
        "print('similarity(apple, tiger) = %.3f' %\n",
        "      cosine(word_vectors['apple'], word_vectors['tiger']))"
      ]
    },
    {
      "cell_type": "code",
      "execution_count": 9,
      "metadata": {
        "id": "mQtXfuYrVBrP"
      },
      "outputs": [],
      "source": [
        "## Functions for nearest neighbor\n",
        "## This function returns the word corresponding to \n",
        "## nearest neighbor vector of x\n",
        "## The list exclude_words can be used to exclude some\n",
        "## words from the nearest neighbors search\n",
        "\n",
        "def nearest_neighbor(x, word_vectors, exclude_words=[]):\n",
        "    '''\n",
        "    Parameters:\n",
        "    x (string): word to find its nearest neighbour \n",
        "    word_vectors (Python dict): {word (string): np-array of word vector}\n",
        "    exclude_words (list of strings): words to be excluded from the search\n",
        "    \n",
        "    Returns:\n",
        "    best_word (string) : the word whose word vector is the nearest neighbor \n",
        "    to the word vector of x\n",
        "    '''\n",
        "    best_score = -1.0\n",
        "    best_word = None\n",
        "    \n",
        "    ## FILL CODE\n",
        "    for key, value in word_vectors.items():\n",
        "      indices = cosine(x, value)\n",
        "      if indices > best_score and key not in exclude_words:\n",
        "        best_score = indices\n",
        "        best_word = key\n",
        "    return best_word"
      ]
    },
    {
      "cell_type": "code",
      "execution_count": 10,
      "metadata": {
        "id": "ewGWWX6CVBrP",
        "colab": {
          "base_uri": "https://localhost:8080/"
        },
        "outputId": "accdc92c-d482-4f3a-d7a8-a0afaaea3c19"
      },
      "outputs": [
        {
          "output_type": "stream",
          "name": "stdout",
          "text": [
            "\n",
            "The nearest neighbor of cat is: dog\n"
          ]
        }
      ],
      "source": [
        "print('')\n",
        "print('The nearest neighbor of cat is: ' +\n",
        "      nearest_neighbor(word_vectors['cat'], word_vectors, exclude_words = ['cat', 'cats']))"
      ]
    },
    {
      "cell_type": "markdown",
      "metadata": {
        "id": "2aurfMp9VBrQ"
      },
      "source": [
        "#### Hint (using python priority queues with the heapq datastructure): \n",
        "if you don't want to store all the words and scores you can use the priority queue and only store the best K element so far. "
      ]
    },
    {
      "cell_type": "code",
      "source": [
        "for i in range(num_test):\n",
        "    closest_point = []\n",
        "    y_index = np.argsort(dists[i, :], axis = 0)\n",
        "    closest_point = y_train[y_index[:k]]\n",
        "    y_pred[i] = np.argmax(np.bincount(closest_point))\n",
        "  return y_pred\n"
      ],
      "metadata": {
        "id": "-_F5U35_CKaU"
      },
      "execution_count": 12,
      "outputs": []
    },
    {
      "cell_type": "code",
      "execution_count": 84,
      "metadata": {
        "id": "terRpHC2VBrQ"
      },
      "outputs": [],
      "source": [
        "\n",
        "## This function return the words corresponding to the\n",
        "## K nearest neighbors of vector x.\n",
        "## You can use the functions heappush and heappop.\n",
        "from heapq import heappush, heappushpop, nlargest\n",
        "def knn(x, word_vectors, k):\n",
        "    '''\n",
        "    Parameters:\n",
        "    x (string): word to find its nearest neighbour \n",
        "    word_vectors (Python dict): {word (string): np-array of word vector}\n",
        "    k (int): number of nearest neighbours to be found\n",
        "    \n",
        "    Returns: \n",
        "    k_nearest_neighbors (list of tuples): [(score, word), (score, word), ....]\n",
        "\n",
        "    '''\n",
        "    k_nearest_neighbors = None\n",
        "    ## FILL CODE\n",
        "    temp = []\n",
        "    for key, value in word_vectors.items():\n",
        "      indices = cosine(x, value)\n",
        "      heappush(temp, (indices, key))\n",
        "      k_nearest_neighbors = nlargest(k, temp)\n",
        "    return k_nearest_neighbors"
      ]
    },
    {
      "cell_type": "code",
      "execution_count": 86,
      "metadata": {
        "id": "-Ojw0IgfVBrQ",
        "colab": {
          "base_uri": "https://localhost:8080/"
        },
        "outputId": "ac4502b3-eeb9-4455-ebdd-1c78b8bd824d"
      },
      "outputs": [
        {
          "output_type": "stream",
          "name": "stdout",
          "text": [
            "\n",
            "cat\n",
            "--------------\n",
            "cat\t1.000\n",
            "cats\t0.732\n",
            "dog\t0.638\n",
            "pet\t0.573\n",
            "rabbit\t0.549\n"
          ]
        }
      ],
      "source": [
        "knn_cat = knn(word_vectors['cat'], word_vectors, 5)\n",
        "print('')\n",
        "print('cat')\n",
        "print('--------------')\n",
        "for score, word in knn(word_vectors['cat'], word_vectors, 5):\n",
        "    print (word + '\\t%.3f' % score)\n"
      ]
    },
    {
      "cell_type": "markdown",
      "metadata": {
        "id": "M5Xh6S6BVBrR"
      },
      "source": [
        "#### Hint: \n",
        "To find the analogies, we find the nearest neighbour associated with the wordvector d\n",
        "$$ d = \\frac{c}{\\Vert {c} \\Vert} + \\frac{b}{\\Vert {b} \\Vert} - \\frac{a}{\\Vert{a} \\Vert}$$\n"
      ]
    },
    {
      "cell_type": "code",
      "execution_count": 104,
      "metadata": {
        "id": "3rpfTQNbVBrR"
      },
      "outputs": [],
      "source": [
        "## This function return the words d, such that a:b and c:d\n",
        "## verifies the same relation\n",
        "\n",
        "def analogy(a, b, c, word_vectors):\n",
        "    '''\n",
        "    Parameters:\n",
        "    a (string): word a\n",
        "    b (string): word b\n",
        "    c (string): word c\n",
        "    word_vectors (Python dict): {word (string): np-array of word vector}\n",
        "    \n",
        "    Returns: \n",
        "    the word d (string) associated with c such that c:d is similar to a:b \n",
        "    \n",
        "    '''    \n",
        "    ## FILL CODE\n",
        "    d = word_vectors[c]/ np.linalg.norm(word_vectors[c]) + word_vectors[b] / np.linalg.norm(word_vectors[b]) - word_vectors[a] / np.linalg.norm(word_vectors[a])\n",
        "    relation = nearest_neighbor(d, word_vectors, exclude_words = [])\n",
        "\n",
        "    return relation"
      ]
    },
    {
      "cell_type": "code",
      "execution_count": 105,
      "metadata": {
        "id": "VOmaKrwLVBrR",
        "colab": {
          "base_uri": "https://localhost:8080/"
        },
        "outputId": "c98f4ec8-17e2-40bf-924c-27ed2cd11db8"
      },
      "outputs": [
        {
          "output_type": "stream",
          "name": "stdout",
          "text": [
            "\n",
            "france - paris + rome = italy\n"
          ]
        }
      ],
      "source": [
        "# Word analogies\n",
        "\n",
        "print('')\n",
        "print('france - paris + rome = ' + analogy('paris', 'france', 'rome', word_vectors))"
      ]
    },
    {
      "cell_type": "markdown",
      "metadata": {
        "id": "l1NFLssbVBrR"
      },
      "source": [
        "## A word about biases in word vectors"
      ]
    },
    {
      "cell_type": "code",
      "execution_count": 106,
      "metadata": {
        "id": "wxcigkHCVBrR",
        "colab": {
          "base_uri": "https://localhost:8080/"
        },
        "outputId": "a395e49a-13b0-427e-8ba7-116ff422b7b9"
      },
      "outputs": [
        {
          "output_type": "stream",
          "name": "stdout",
          "text": [
            "\n",
            "similarity(genius, man) = 0.445\n",
            "similarity(genius, woman) = 0.325\n"
          ]
        }
      ],
      "source": [
        "## A word about biases in word vectors:\n",
        "\n",
        "print('')\n",
        "print('similarity(genius, man) = %.3f' %\n",
        "      cosine(word_vectors['man'], word_vectors['genius']))\n",
        "print('similarity(genius, woman) = %.3f' %\n",
        "      cosine(word_vectors['woman'], word_vectors['genius']))"
      ]
    },
    {
      "cell_type": "code",
      "execution_count": 110,
      "metadata": {
        "id": "jZUURR_6VBrR"
      },
      "outputs": [],
      "source": [
        "## Compute the association strength between:\n",
        "##   - a word w\n",
        "##   - two sets of attributes A and B\n",
        "\n",
        "def association_strength(w, A, B, vectors):\n",
        "    '''\n",
        "    Parameters:\n",
        "    w (string): word w\n",
        "    A (list of strings): The words belonging to set A\n",
        "    B (list of strings): The words belonging to set B\n",
        "    vectors (Python dict): {word (string): np-array of word vector}\n",
        "    \n",
        "    Returnrs: \n",
        "    strength (float): the value of the association strength \n",
        "    '''\n",
        "    \n",
        "    strength = 0.0\n",
        "    part_a = 0.0\n",
        "    part_b = 0.0 \n",
        "    \n",
        "    ## FILL CODE\n",
        "    for word in A:\n",
        "      part_a += cosine(vectors[w],vectors[word])\n",
        "    part_a = part_a / len(A)\n",
        "    for word in B:\n",
        "      part_b += cosine(vectors[w],  vectors[word])\n",
        "    part_b = part_b / len(B)\n",
        "    strength = part_a - part_b\n",
        "    return strength"
      ]
    },
    {
      "cell_type": "code",
      "execution_count": 115,
      "metadata": {
        "id": "KCyQZ85IVBrR"
      },
      "outputs": [],
      "source": [
        "## Perform the word embedding association test between:\n",
        "##   - two sets of words X and Y\n",
        "##   - two sets of attributes A and B\n",
        "\n",
        "def weat(X, Y, A, B, vectors):\n",
        "    '''\n",
        "    Parameters:\n",
        "    X (list of strings): The words belonging to set X\n",
        "    Y (list of strings): The words belonging to set Y\n",
        "    A (list of strings): The words belonging to set A\n",
        "    B (list of strings): The words belonging to set B\n",
        "    vectors (Python dict): {word (string): np-array of word vector}\n",
        "    \n",
        "    Returns: \n",
        "    score (float): the value of the group association strength  \n",
        "    '''\n",
        "    \n",
        "    score = 0.0\n",
        "    \n",
        "    ## FILL CODE\n",
        "    first = 0.0\n",
        "    second = 0.0\n",
        "    for i in X:\n",
        "      first += association_strength(i, A, B, vectors)\n",
        "    for j in Y:\n",
        "      second += association_strength(j, A, B, vectors)\n",
        "    score = first - second\n",
        "    \n",
        "    return score"
      ]
    },
    {
      "cell_type": "code",
      "execution_count": 116,
      "metadata": {
        "id": "gLagus9kVBrS",
        "colab": {
          "base_uri": "https://localhost:8080/"
        },
        "outputId": "3b81f9c2-4731-44a8-db52-bf296a836b23"
      },
      "outputs": [
        {
          "output_type": "stream",
          "name": "stdout",
          "text": [
            "\n",
            "Word embedding association test: 0.847\n"
          ]
        }
      ],
      "source": [
        "## Replicate one of the experiments from:\n",
        "##\n",
        "## Semantics derived automatically from language corpora contain human-like biases\n",
        "## Caliskan, Bryson, Narayanan (2017)\n",
        "\n",
        "career = ['executive', 'management', 'professional', 'corporation', \n",
        "          'salary', 'office', 'business', 'career']\n",
        "family = ['home', 'parents', 'children', 'family',\n",
        "          'cousins', 'marriage', 'wedding', 'relatives']\n",
        "male = ['john', 'paul', 'mike', 'kevin', 'steve', 'greg', 'jeff', 'bill']\n",
        "female = ['amy', 'joan', 'lisa', 'sarah', 'diana', 'kate', 'ann', 'donna']\n",
        "\n",
        "print('')\n",
        "print('Word embedding association test: %.3f' %\n",
        "      weat(career, family, male, female, word_vectors))"
      ]
    },
    {
      "cell_type": "markdown",
      "metadata": {
        "id": "QhIoTzNsVBrS"
      },
      "source": [
        "## Word translation using word vectors\n",
        "\n",
        "In the following, we will use word vectors in English and French to translate words from English to French. The idea is to learn a linear function that maps English word vectors to their correponding French word vectors. To learn this linear mapping, we will use a small bilingual lexicon, that contains pairs of words in English and French that are translations of each other.\n",
        "\n",
        "The following function will load the small English-French bilingual lexicon:"
      ]
    },
    {
      "cell_type": "code",
      "execution_count": 117,
      "metadata": {
        "id": "HFgHJrvpVBrS"
      },
      "outputs": [],
      "source": [
        "def load_lexicon(filename):\n",
        "    '''\n",
        "    Parameters:\n",
        "    filename(string): the path of the lexicon\n",
        "    \n",
        "    Returns:\n",
        "    data(list of pairs of string): the bilingual lexicon\n",
        "    '''\n",
        "    fin = io.open(filename, 'r', encoding='utf-8', newline='\\n')\n",
        "    data = []\n",
        "    for line in fin:\n",
        "        a, b = line.rstrip().split(' ')\n",
        "        data.append((a, b))\n",
        "    return data"
      ]
    },
    {
      "cell_type": "code",
      "execution_count": 118,
      "metadata": {
        "id": "Hlffe1vMVBrS",
        "colab": {
          "base_uri": "https://localhost:8080/"
        },
        "outputId": "bf25aeea-e949-4036-fefc-2405cfd51dbb"
      },
      "outputs": [
        {
          "output_type": "stream",
          "name": "stdout",
          "text": [
            "[('the', 'le'), ('the', 'les'), ('the', 'la'), ('and', 'et'), ('was', 'fut')]\n"
          ]
        }
      ],
      "source": [
        "word_vectors_en = load_vectors('wiki.en.vec')\n",
        "word_vectors_fr = load_vectors('wiki.fr.vec')\n",
        "lexicon = load_lexicon(\"lexicon-en-fr.txt\")\n",
        "print(lexicon[:5])"
      ]
    },
    {
      "cell_type": "code",
      "execution_count": 119,
      "metadata": {
        "id": "CNGXEEUoVBrS"
      },
      "outputs": [],
      "source": [
        "# We split the lexicon into a train and validation set\n",
        "train = lexicon[:5000]\n",
        "valid = lexicon[5000:5100]"
      ]
    },
    {
      "cell_type": "markdown",
      "metadata": {
        "id": "mwHfCCqkVBrS"
      },
      "source": [
        "The following function will learn the mapping from English to French. The idea is to build two matrices $X_{\\text{en}}$ and $X_{\\text{fr}}$, and to find a mapping $M$ that minimizes $||X_{\\text{en}} W - X_{\\text{fr}} ||_2$. In numpy, this mapping can be obtained by using the `numpy.linalg.lstsq` function."
      ]
    },
    {
      "cell_type": "code",
      "execution_count": 124,
      "metadata": {
        "id": "cK9TTCILVBrS"
      },
      "outputs": [],
      "source": [
        "def align(word_vectors_en, word_vectors_fr, lexicon):\n",
        "    '''\n",
        "    Parameters:\n",
        "    word_vectors_en(dict: string -> np.array): English word vectors\n",
        "    word_vectors_en(dict: string -> np.array): French word vectors\n",
        "    lexicon(list of pairs of string): bilingual training lexicon\n",
        "    \n",
        "    Returns\n",
        "    mapping(np.array): the mapping from English to French vectors\n",
        "    '''\n",
        "    x_en, x_fr = [], []\n",
        "    \n",
        "    ## FILL CODE\n",
        "    for english, french in lexicon:\n",
        "      ang = word_vectors_en[english]\n",
        "      fra = word_vectors_fr[french]\n",
        "\n",
        "      x_en.append(ang)\n",
        "      x_fr.append(fra)\n",
        "\n",
        "    mapper = np.linalg.lstsq(x_en, x_fr)\n",
        "    \n",
        "    return mapper[0]"
      ]
    },
    {
      "cell_type": "code",
      "execution_count": 125,
      "metadata": {
        "id": "YxNt22LVVBrS",
        "colab": {
          "base_uri": "https://localhost:8080/"
        },
        "outputId": "b7d79f2e-f465-4b24-e712-09c61cf1e81b"
      },
      "outputs": [
        {
          "output_type": "stream",
          "name": "stderr",
          "text": [
            "/usr/local/lib/python3.7/dist-packages/ipykernel_launcher.py:21: FutureWarning: `rcond` parameter will change to the default of machine precision times ``max(M, N)`` where M and N are the input matrix dimensions.\n",
            "To use the future default and silence this warning we advise to pass `rcond=None`, to keep using the old, explicitly pass `rcond=-1`.\n"
          ]
        }
      ],
      "source": [
        "mapping = align(word_vectors_en, word_vectors_fr, lexicon)"
      ]
    },
    {
      "cell_type": "markdown",
      "metadata": {
        "id": "ymj4RevMVBrS"
      },
      "source": [
        "Given a mapping, a set of word English word vector and French word vectors, the next function will translate the English word to French. To do so, we apply the mapping on the English word, and retrieve the nearest neighbor of the obtained vector in the set of French word vectors. The translation is then the corresponding French word."
      ]
    },
    {
      "cell_type": "code",
      "execution_count": 126,
      "metadata": {
        "id": "Captc7b_VBrT"
      },
      "outputs": [],
      "source": [
        "def translate(word, word_vectors_en, word_vectors_fr, mapping):\n",
        "    '''\n",
        "    Parameters:\n",
        "    word(string): an English word\n",
        "    word_vectors_en(dict: string -> np.array): English word vectors\n",
        "    word_vectors_en(dict: string -> np.array): French word vectors\n",
        "    mapping(np.array): the mapping from English to French vectors\n",
        "    \n",
        "    Returns\n",
        "    A string containing the translation of the English word\n",
        "    '''\n",
        "    \n",
        "    ## FILL CODE\n",
        "    english_vector = word_vectors_en[word]\n",
        "    french_vector = np.dot(english_vector, mapping)\n",
        "    trans = nearest_neighbor(french_vector, word_vectors_fr)\n",
        "    return trans"
      ]
    },
    {
      "cell_type": "code",
      "execution_count": 127,
      "metadata": {
        "id": "EVvK-J-bVBrT",
        "colab": {
          "base_uri": "https://localhost:8080/"
        },
        "outputId": "0b0ea10a-668d-49e5-cc4a-5e22a1b3fd52"
      },
      "outputs": [
        {
          "output_type": "stream",
          "name": "stdout",
          "text": [
            "monde\n",
            "machine\n",
            "apprentissage\n"
          ]
        }
      ],
      "source": [
        "print(translate(\"world\", word_vectors_en, word_vectors_fr, mapping))\n",
        "print(translate(\"machine\", word_vectors_en, word_vectors_fr, mapping))\n",
        "print(translate(\"learning\", word_vectors_en, word_vectors_fr, mapping))"
      ]
    },
    {
      "cell_type": "markdown",
      "metadata": {
        "id": "A4lJn0n-VBrT"
      },
      "source": [
        "Finally, let's implement a function to evaluate this method on the validation lexicon:"
      ]
    },
    {
      "cell_type": "code",
      "execution_count": 139,
      "metadata": {
        "id": "SIXr70zWVBrT"
      },
      "outputs": [],
      "source": [
        "def evaluate(valid, word_vectors_en, word_vectors_fr, mapping):\n",
        "    '''\n",
        "    Parameters:\n",
        "    valid(a list of pairs of string): the validation lexicon\n",
        "    word_vectors_en(dict: string -> np.array): English word vectors\n",
        "    word_vectors_en(dict: string -> np.array): French word vectors\n",
        "    mapping(np.array): the mapping from English to French vectors\n",
        "    \n",
        "    Returns\n",
        "    Accuracy(float): the accuracy on the validation lexicon\n",
        "    '''\n",
        "    acc, n = 0.0, 0\n",
        "    output = 0.0\n",
        "    ## FILL CODE\n",
        "    for word_en_fr in valid:\n",
        "      output = translate(word_en_fr[0], word_vectors_en, word_vectors_fr, mapping)\n",
        "\n",
        "      if output == word_en_fr[1]:\n",
        "        n += 1\n",
        "    \n",
        "    acc = n / len(valid) * 100.0\n",
        "    return acc"
      ]
    },
    {
      "cell_type": "code",
      "execution_count": 140,
      "metadata": {
        "id": "4iuKt6heVBrT",
        "colab": {
          "base_uri": "https://localhost:8080/"
        },
        "outputId": "9bef6c20-083b-4ad4-8f04-a049c0837ee3"
      },
      "outputs": [
        {
          "output_type": "execute_result",
          "data": {
            "text/plain": [
              "64.0"
            ]
          },
          "metadata": {},
          "execution_count": 140
        }
      ],
      "source": [
        "evaluate(valid, word_vectors_en, word_vectors_fr, mapping)"
      ]
    },
    {
      "cell_type": "code",
      "execution_count": null,
      "metadata": {
        "id": "ctqJ1lz-VBrT"
      },
      "outputs": [],
      "source": [
        ""
      ]
    }
  ],
  "metadata": {
    "kernelspec": {
      "display_name": "Python 3",
      "language": "python",
      "name": "python3"
    },
    "language_info": {
      "codemirror_mode": {
        "name": "ipython",
        "version": 3
      },
      "file_extension": ".py",
      "mimetype": "text/x-python",
      "name": "python",
      "nbconvert_exporter": "python",
      "pygments_lexer": "ipython3",
      "version": "3.6.2+"
    },
    "colab": {
      "name": "Mansour_Sow_intro_to_wordvectors.ipynb",
      "provenance": [],
      "collapsed_sections": [],
      "include_colab_link": true
    }
  },
  "nbformat": 4,
  "nbformat_minor": 0
}