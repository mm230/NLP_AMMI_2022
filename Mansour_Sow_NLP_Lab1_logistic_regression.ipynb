{
  "cells": [
    {
      "cell_type": "markdown",
      "metadata": {
        "id": "view-in-github",
        "colab_type": "text"
      },
      "source": [
        "<a href=\"https://colab.research.google.com/github/mm230/NLP_Lab1_Week1/blob/main/Mansour_Sow_NLP_Lab1_logistic_regression.ipynb\" target=\"_parent\"><img src=\"https://colab.research.google.com/assets/colab-badge.svg\" alt=\"Open In Colab\"/></a>"
      ]
    },
    {
      "cell_type": "markdown",
      "metadata": {
        "id": "1i8cuLfoT7g2"
      },
      "source": [
        "In this second part of the lab, we will implement a language identifier trained on the same data, but using Logistic Regression instead of Naive Bayes."
      ]
    },
    {
      "cell_type": "code",
      "execution_count": null,
      "metadata": {
        "id": "cEnYcmroT7g4"
      },
      "outputs": [],
      "source": [
        "import io, sys, math\n",
        "import numpy as np\n",
        "from collections import defaultdict"
      ]
    },
    {
      "cell_type": "markdown",
      "metadata": {
        "id": "dZ9Sr_lDT7g5"
      },
      "source": [
        "This function is used to build the dictionary, or vocabulary, which is a mapping from strings (or words) to integers (or indices). This will allow to build vector representations of documents. "
      ]
    },
    {
      "cell_type": "code",
      "execution_count": null,
      "metadata": {
        "id": "flWAjZ_LT7g5"
      },
      "outputs": [],
      "source": [
        "def build_dict(filename, threshold=1):\n",
        "    fin = io.open(filename, 'r', encoding='utf-8')\n",
        "    word_dict, label_dict = {}, {}\n",
        "    counts = defaultdict(lambda: 0)\n",
        "    for line in fin:\n",
        "        tokens = line.split()\n",
        "        label = tokens[0]\n",
        "\n",
        "        if not label in label_dict:\n",
        "            label_dict[label] = len(label_dict)\n",
        "\n",
        "        for w in tokens[1:]:\n",
        "            counts[w] += 1\n",
        "            \n",
        "    for k, v in counts.items():\n",
        "        if v > threshold:\n",
        "            word_dict[k] = len(word_dict)\n",
        "    return word_dict, label_dict"
      ]
    },
    {
      "cell_type": "markdown",
      "metadata": {
        "id": "r5m7HLA6T7g6"
      },
      "source": [
        "This function is used to load the training dataset, and build vector representations of the training examples. In particular, a document or sentence is represented as a bag of words. Each example correspond to a sparse vector ` x` of dimension `V`, where `V` is the size of the vocabulary. The element `j` of the vector `x` is the number of times the word `j` appears in the document."
      ]
    },
    {
      "cell_type": "code",
      "execution_count": null,
      "metadata": {
        "id": "Knj2gHMsT7g6"
      },
      "outputs": [],
      "source": [
        "def load_data(filename, word_dict, label_dict):\n",
        "    fin = io.open(filename, 'r', encoding='utf-8')\n",
        "    data = []\n",
        "    dim = len(word_dict)\n",
        "    for line in fin:\n",
        "        tokens = line.split()\n",
        "        label = tokens[0]\n",
        "\n",
        "        yi = label_dict[label]\n",
        "        xi = np.zeros(dim)\n",
        "        for word in tokens[1:]:\n",
        "            if word in word_dict:\n",
        "                wid = word_dict[word]\n",
        "                xi[wid] += 1.0\n",
        "        data.append((yi, xi))\n",
        "    return data"
      ]
    },
    {
      "cell_type": "markdown",
      "metadata": {
        "id": "SA-SP1KKT7g6"
      },
      "source": [
        "First, let's implement the softmax function. Don't forget numerical stability!"
      ]
    },
    {
      "cell_type": "code",
      "source": [
        "def sigmoid(x):\n",
        "  return 1 / (1 + np.exp(-x))"
      ],
      "metadata": {
        "id": "8EJdtawysJJF"
      },
      "execution_count": null,
      "outputs": []
    },
    {
      "cell_type": "code",
      "execution_count": null,
      "metadata": {
        "id": "tx-uT0uQT7g7"
      },
      "outputs": [],
      "source": [
        "def softmax(x):\n",
        "    ### FILL CODE\n",
        "    z = x - np.max(x)\n",
        "    print(z)\n",
        "    return np.exp(z) / np.sum(np.exp(z))"
      ]
    },
    {
      "cell_type": "code",
      "source": [
        "x = np.array([2, 100, 4])\n",
        "print(softmax(x))"
      ],
      "metadata": {
        "colab": {
          "base_uri": "https://localhost:8080/"
        },
        "id": "dQhIm3J-YQQc",
        "outputId": "0cf71d49-a72c-4f55-cad9-dc961063d1ff"
      },
      "execution_count": null,
      "outputs": [
        {
          "output_type": "stream",
          "name": "stdout",
          "text": [
            "[-98   0 -96]\n",
            "[2.74878501e-43 1.00000000e+00 2.03109266e-42]\n"
          ]
        }
      ]
    },
    {
      "cell_type": "markdown",
      "metadata": {
        "id": "2FEbGNPiT7g7"
      },
      "source": [
        "Now, let's implement the main training loop, by using stochastic gradient descent. The function will iterate over the examples of the training set. For each example, we will first compute the loss, before computing the gradient and performing the update."
      ]
    },
    {
      "cell_type": "code",
      "execution_count": null,
      "metadata": {
        "id": "tcrnnkFHT7g7"
      },
      "outputs": [],
      "source": [
        "def sgd(w, data, niter, learning_rate):\n",
        "  nlabels, dim = w.shape\n",
        "    \n",
        "  # w = np.zeros(data.shape)\n",
        "  # cost = np.zeros(niter)\n",
        "  for iter in range(niter):\n",
        "    ### FILL CODE\n",
        "      np.random.shuffle(data)\n",
        "      y = V[:, -1]\n",
        "      X = V[:, :-1]\n",
        "\n",
        "      for j in range(dim):\n",
        "        r = data[j].reshape(1, -1) \n",
        "        s = data[j] @ w\n",
        "        f = s - nlabels[j]\n",
        "        f = f.reshape(1, 1)\n",
        "        gradient = r.T @ f\n",
        "        gradient = gradient.squeeze()\n",
        "        w = w - 1/dim * learning_rate * gradient\n",
        "\n",
        "  return w"
      ]
    },
    {
      "cell_type": "markdown",
      "metadata": {
        "id": "xqNA0xcBT7g8"
      },
      "source": [
        "The next function will predict the most probable label corresponding to example `x`, given the trained classifier `w`."
      ]
    },
    {
      "cell_type": "code",
      "execution_count": null,
      "metadata": {
        "id": "G1oreDZCT7g8"
      },
      "outputs": [],
      "source": [
        "def predict(w, x):\n",
        "    ## FILL CODE"
      ]
    },
    {
      "cell_type": "markdown",
      "metadata": {
        "id": "gaXuPvcfT7g8"
      },
      "source": [
        "Finally, this function will compute the accuracy of a trained classifier `w` on a validation set."
      ]
    },
    {
      "cell_type": "code",
      "execution_count": null,
      "metadata": {
        "id": "ZwLJDfUET7g8"
      },
      "outputs": [],
      "source": [
        "def compute_accuracy(w, valid_data):\n",
        "    ## FILL CODE"
      ]
    },
    {
      "cell_type": "code",
      "execution_count": null,
      "metadata": {
        "id": "hxBtjj8NT7g9"
      },
      "outputs": [],
      "source": [
        "print(\"\")\n",
        "print(\"** Logistic Regression **\")\n",
        "print(\"\")\n",
        "\n",
        "word_dict, label_dict = build_dict(\"train1.txt\")\n",
        "train_data = load_data(\"train1.txt\", word_dict, label_dict)\n",
        "valid_data = load_data(\"valid1.txt\", word_dict, label_dict)\n",
        "\n",
        "nlabels = len(label_dict)\n",
        "dim = len(word_dict)\n",
        "w = np.zeros([nlabels, dim])\n",
        "w = sgd(w, train_data, 5)\n",
        "print(\"\")\n",
        "print(\"Validation accuracy: %.3f\" % compute_accuracy(w, valid_data))\n",
        "print(\"\")"
      ]
    }
  ],
  "metadata": {
    "kernelspec": {
      "display_name": "Python 3",
      "language": "python",
      "name": "python3"
    },
    "language_info": {
      "codemirror_mode": {
        "name": "ipython",
        "version": 3
      },
      "file_extension": ".py",
      "mimetype": "text/x-python",
      "name": "python",
      "nbconvert_exporter": "python",
      "pygments_lexer": "ipython3",
      "version": "3.6.2+"
    },
    "colab": {
      "name": "Mansour_Sow_NLP_Lab1_logistic_regression.ipynb",
      "provenance": [],
      "include_colab_link": true
    }
  },
  "nbformat": 4,
  "nbformat_minor": 0
}