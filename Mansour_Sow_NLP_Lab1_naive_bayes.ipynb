{
  "cells": [
    {
      "cell_type": "markdown",
      "metadata": {
        "id": "view-in-github",
        "colab_type": "text"
      },
      "source": [
        "<a href=\"https://colab.research.google.com/github/mm230/NLP_Lab1_Week1/blob/main/Mansour_Sow_NLP_Lab1_naive_bayes.ipynb\" target=\"_parent\"><img src=\"https://colab.research.google.com/assets/colab-badge.svg\" alt=\"Open In Colab\"/></a>"
      ]
    },
    {
      "cell_type": "markdown",
      "metadata": {
        "id": "QXqx2ngknKyj"
      },
      "source": [
        "The goal of this lab is to implement a language identifier (LID).\n",
        "\n",
        "Our first model will be based on Naive Bayes."
      ]
    },
    {
      "cell_type": "code",
      "source": [
        "from google.colab import drive\n",
        "drive.mount('/content/drive')"
      ],
      "metadata": {
        "colab": {
          "base_uri": "https://localhost:8080/"
        },
        "id": "DW61pjUs1mFF",
        "outputId": "4dc3e746-e950-478f-fa48-d8227ad6de93"
      },
      "execution_count": 5,
      "outputs": [
        {
          "output_type": "stream",
          "name": "stdout",
          "text": [
            "Mounted at /content/drive\n"
          ]
        }
      ]
    },
    {
      "cell_type": "code",
      "execution_count": 3,
      "metadata": {
        "id": "sSQ9CbnYnKyl"
      },
      "outputs": [],
      "source": [
        "import io, sys, math, re\n",
        "from collections import defaultdict"
      ]
    },
    {
      "cell_type": "code",
      "source": [
        "%ls"
      ],
      "metadata": {
        "colab": {
          "base_uri": "https://localhost:8080/"
        },
        "id": "jD-xdW9M1ZRf",
        "outputId": "8942d837-076a-44e1-e51b-ed3fb0ed0d96"
      },
      "execution_count": 10,
      "outputs": [
        {
          "output_type": "stream",
          "name": "stdout",
          "text": [
            "logistic_regression.ipynb                       naive_bayes.ipynb  valid1.txt\n",
            "Mansour_Sow_NLP_Lab1_logistic_regression.ipynb  train1.txt         valid2.txt\n",
            "Mansour_Sow_NLP_Lab1_naive_bayes.ipynb          train2.txt\n"
          ]
        }
      ]
    },
    {
      "cell_type": "markdown",
      "metadata": {
        "id": "Z64P-cHPnKym"
      },
      "source": [
        "The next function is used to load the data. Each line of the data consist of a label (corresponding to a language), followed by some text, written in that language. Here is an example of data:\n",
        "\n",
        "```__label__de Zur Namensdeutung gibt es mehrere Varianten.```\n"
      ]
    },
    {
      "cell_type": "code",
      "execution_count": 11,
      "metadata": {
        "id": "ebE6BgyInKym"
      },
      "outputs": [],
      "source": [
        "def load_data(filename):\n",
        "    fin = io.open(filename, 'r', encoding='utf-8')\n",
        "    data = []\n",
        "    for line in fin:\n",
        "        tokens = line.split()\n",
        "        data.append((tokens[0], tokens[1:]))\n",
        "    return data"
      ]
    },
    {
      "cell_type": "markdown",
      "metadata": {
        "id": "l0tuYI7tnKyn"
      },
      "source": [
        "You can now try loading the first dataset `train1.txt` and look what examples look like."
      ]
    },
    {
      "cell_type": "code",
      "execution_count": 46,
      "metadata": {
        "id": "uH7qdklEnKyn",
        "colab": {
          "base_uri": "https://localhost:8080/"
        },
        "outputId": "eb384ba3-f3a3-471d-b7ed-5a978bd78332"
      },
      "outputs": [
        {
          "output_type": "stream",
          "name": "stdout",
          "text": [
            "('__label__de', ['Ich', 'würde', 'alles', 'tun,', 'um', 'dich', 'zu', 'beschützen.'])\n"
          ]
        }
      ],
      "source": [
        "data = load_data(\"train1.txt\")\n",
        "print(data[0])"
      ]
    },
    {
      "cell_type": "markdown",
      "metadata": {
        "id": "lwcH4vWhnKyn"
      },
      "source": [
        "Next, we will start implementing the Naive Bayes method. This technique is based on word counts, and we thus need to start by implementing a function to count the words and labels of our training set.\n",
        "\n",
        "`n_examples` is the total number of examples\n",
        "\n",
        "`n_words_per_label` is the total number of words for a given label\n",
        "\n",
        "`label_counts` is the number of times a given label appears in the training data\n",
        "\n",
        "`word_counts` is the number of times a word appears with a given label"
      ]
    },
    {
      "cell_type": "code",
      "execution_count": 58,
      "metadata": {
        "id": "ve5DDKYznKyo"
      },
      "outputs": [],
      "source": [
        "def count_words(data):\n",
        "    n_examples = 0\n",
        "    n_words_per_label = defaultdict(lambda: 0)\n",
        "    label_counts = defaultdict(lambda: 0)\n",
        "    word_counts = defaultdict(lambda: defaultdict(lambda: 0.0))\n",
        "\n",
        "    for example in data:\n",
        "        label, sentence = example\n",
        "        ## FILL CODE\n",
        "        label_counts[label] += 1\n",
        "        n_words_per_label[label] += len(sentence)\n",
        "        for word in sentence:\n",
        "          word_counts[label][word] +=1\n",
        "    n_examples = len(data)\n",
        "\n",
        "    return {'label_counts': label_counts, \n",
        "            'word_counts': word_counts, \n",
        "            'n_examples': n_examples, \n",
        "            'n_words_per_label': n_words_per_label}"
      ]
    },
    {
      "cell_type": "markdown",
      "metadata": {
        "id": "EEYXeC52nKyo"
      },
      "source": [
        "Next, using the word and label counts from the previous function, we can implement the prediction function.\n",
        "\n",
        "Here, `mu` is a regularization parameter (Laplace smoothing), and `sentence` is the list of words corresponding to the test example."
      ]
    },
    {
      "cell_type": "code",
      "execution_count": 60,
      "metadata": {
        "id": "rVbrb2WNnKyp"
      },
      "outputs": [],
      "source": [
        "def predict(sentence, mu, label_counts, word_counts, n_examples, n_words_per_label):\n",
        "    best_label = None\n",
        "    best_score = float('-inf')\n",
        "\n",
        "    for label in word_counts.keys():\n",
        "      score = 0.0\n",
        "      prior = label_counts[label] / sum(label_counts.values())\n",
        "\n",
        "      ## FILE CODE\n",
        "      posterior = 1\n",
        "      for word in sentence:\n",
        "        conditional_proba =  (word_counts[label][word] + mu) / n_words_per_label[label]\n",
        "        posterior *= prior * conditional_proba   \n",
        "      if posterior > best_score:  \n",
        "        best_score = posterior\n",
        "        best_label = label\n",
        "\n",
        "    return best_label"
      ]
    },
    {
      "cell_type": "markdown",
      "metadata": {
        "id": "0FCmCUTrnKyp"
      },
      "source": [
        "The next function will be used to evaluate the Naive Bayes model on a validation set. It computes the accuracy for a particular regularization parameter `mu`."
      ]
    },
    {
      "cell_type": "code",
      "execution_count": 55,
      "metadata": {
        "id": "9nirZebqnKyp"
      },
      "outputs": [],
      "source": [
        "def compute_accuracy(valid_data, mu, counts):\n",
        "    accuracy = 0.0\n",
        "\n",
        "    for label, sentence in valid_data:\n",
        "      ## FILL CODE\n",
        "      prediction = predict(sentence, mu, counts['label_counts'], counts['word_counts'], counts['n_examples'], counts['n_words_per_label'])\n",
        "      if label == prediction:\n",
        "        accuracy +=1\n",
        "     \n",
        "    return accuracy / len(valid_data) * 100.0"
      ]
    },
    {
      "cell_type": "code",
      "execution_count": 66,
      "metadata": {
        "id": "LlSS3m3vnKyp",
        "colab": {
          "base_uri": "https://localhost:8080/"
        },
        "outputId": "6f36c58e-4edc-4b05-8855-c95d2c162a74"
      },
      "outputs": [
        {
          "output_type": "stream",
          "name": "stdout",
          "text": [
            "\n",
            "** Naive Bayes **\n",
            "\n",
            "========================================\n",
            "Validation accuracy: 95.00\n",
            "========================================\n"
          ]
        }
      ],
      "source": [
        "print(\"\")\n",
        "print(\"** Naive Bayes **\")\n",
        "print(\"\")\n",
        "\n",
        "mu = 1.0\n",
        "train_data = load_data(\"train1.txt\")\n",
        "valid_data = load_data(\"valid1.txt\")\n",
        "counts = count_words(train_data)\n",
        "\n",
        "print(\"=\"*40)\n",
        "print(\"Validation accuracy: %.2f\" % compute_accuracy(valid_data, mu, counts))\n",
        "print(\"=\"*40)"
      ]
    },
    {
      "cell_type": "code",
      "execution_count": 56,
      "metadata": {
        "id": "otnS8ZnInKyq"
      },
      "outputs": [],
      "source": [
        ""
      ]
    }
  ],
  "metadata": {
    "kernelspec": {
      "display_name": "Python 3",
      "language": "python",
      "name": "python3"
    },
    "language_info": {
      "codemirror_mode": {
        "name": "ipython",
        "version": 3
      },
      "file_extension": ".py",
      "mimetype": "text/x-python",
      "name": "python",
      "nbconvert_exporter": "python",
      "pygments_lexer": "ipython3",
      "version": "3.6.2+"
    },
    "colab": {
      "name": "Mansour_Sow_NLP_Lab1_naive_bayes.ipynb",
      "provenance": [],
      "include_colab_link": true
    }
  },
  "nbformat": 4,
  "nbformat_minor": 0
}